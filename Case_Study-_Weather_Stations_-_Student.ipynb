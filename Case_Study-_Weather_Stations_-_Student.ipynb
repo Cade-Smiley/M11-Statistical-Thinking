{
 "cells": [
  {
   "cell_type": "code",
   "execution_count": 1,
   "id": "935f7f7e",
   "metadata": {},
   "outputs": [
    {
     "data": {
      "text/html": [
       "<style>    span.str {color:#BA2121; font-style:italic; font-weight:bold;}    span.num {color:#080; font-style:italic; font-weight:bold;}    span.bltn {color:#080; font-weight:bold;}    span.op {color:#AA22FF;}    span.func {color:#00F;}    h3.yt {color:#009900; font-style:italic;}    span.yt {color:#009900; font-style:italic;}</style>"
      ],
      "text/plain": [
       "<IPython.core.display.HTML object>"
      ]
     },
     "execution_count": 1,
     "metadata": {},
     "output_type": "execute_result"
    }
   ],
   "source": [
    "# Use of IPython.display and HTML for using css to format text in Markdown based on\n",
    "# www.dataquest.io/blog/advanced-jupyter-notebooks-tutorial\n",
    "from IPython.display import HTML\n",
    "HTML(\n",
    "    \"<style>\\\n",
    "    span.str {color:#BA2121; font-style:italic; font-weight:bold;}\\\n",
    "    span.num {color:#080; font-style:italic; font-weight:bold;}\\\n",
    "    span.bltn {color:#080; font-weight:bold;}\\\n",
    "    span.op {color:#AA22FF;}\\\n",
    "    span.func {color:#00F;}\\\n",
    "    h3.yt {color:#009900; font-style:italic;}\\\n",
    "    span.yt {color:#009900; font-style:italic;}</style>\"\n",
    ")"
   ]
  },
  {
   "cell_type": "markdown",
   "id": "234bd0ed",
   "metadata": {},
   "source": [
    "<h2><b><u>Case Study: Weather Stations</u></b></h2>\n",
    "\n",
    "<h3><b><i>Background</i></b></h3>\n",
    "The National Oceanic and Atmospheric Administration (NOAA) maintains local climatological data (LCD) for various locations within the United States. LCD data is collected at approximately 950 Automated Surface Observing Systems (ASOS) in hourly, daily, and monthly measurements [1]. In this Case Study you will use the LCD data for Drake Field which is located in Fayetteville for the first part. For the <span class = \"yt\">Your Turn </span> portion, you will use the Sheffield Weather Station data from DataCamp. \n"
   ]
  },
  {
   "cell_type": "markdown",
   "id": "9b9c977a",
   "metadata": {},
   "source": [
    "<h3><b><i>Goal</i></b></h3>\n",
    "The goal of this Case Study is to practice statistical analysis of Drake Field LCD data. You will practice concepts covered in DASC 2113 lecture along with DataCamp's <a href = \"https://app.datacamp.com/learn/courses/statistical-thinking-in-python-part-1\">Statistical Thinking in Python (Part 1)</a> and <a href = \"https://app.datacamp.com/learn/courses/statistical-thinking-in-python-part-2\">Statistical Thinking in Python (Part 2)</a>. \n",
    "\n",
    "<h3><b>Data</b></h3>\n",
    "The Drake Field LCD (DFLCD) data you will use in this Case Study is a subset of the DFLCD data downloaded from NOAA for the time range of 10/16/2012 - 10/16/2021. The attribute of interest in the DFLCD data is <i>Daily Precipitation</i>. More information about other LCD attributes can be found at [2]. \n",
    "\n",
    "The Sheffield Weather Station data contains monthly rainfall and temperature estimates. It is hosted on DataCamp's Statistical Thinking in Python (Part 2) homepage [3]. \n",
    "\n",
    "Sources: \n",
    "<ol style = \"font-size:8px\">\n",
    "    <li>NOAA. 2021. \"Local Climatological Data (LCD)\". https://www.ncei.noaa.gov/products/land-based-station/local-climatological-data. </li>\n",
    "    <li>NOAA. 2021. \"Local Climatological Data (LCD) Dataset Documentation\" https://www1.ncdc.noaa.gov/pub/data/cdo/documentation/LCD_documentation.pdf</li>\n",
    "    <li>DataCamp. 2021.\"Sheffield Weather Data\". Statistical Thinking in Python (Part 2).  https://app.datacamp.com/learn/courses/statistical-thinking-in-python-part-2</li>\n",
    "\n",
    "</ol>"
   ]
  },
  {
   "cell_type": "markdown",
   "id": "a9d6ea39",
   "metadata": {},
   "source": [
    "<h4><u>Importing Libraries and Loading the Data</u></h4>\n"
   ]
  },
  {
   "cell_type": "code",
   "execution_count": 2,
   "id": "d2645871",
   "metadata": {},
   "outputs": [],
   "source": [
    "# Import \n",
    "from matplotlib import pyplot as plt\n",
    "import numpy as np\n",
    "import pandas as pd\n",
    "from sklearn import datasets\n",
    "import seaborn as sns\n",
    "import random \n",
    "from scipy.stats import poisson, expon\n",
    "import math"
   ]
  },
  {
   "cell_type": "markdown",
   "id": "03be2dda",
   "metadata": {},
   "source": [
    "<h4><u>Loading the Data</u></h4>\n",
    "\n",
    "The Drake Field data (DFLCD) will be used for the worthrough of this Case Study. Let's open the <i>DFLCD</i> csv data as a DataFrame. A warning will appear saying that some columns have <b><i>mixed types</i></b>. This warning occurs because the column values have a mixture of values that could be considered <span class=\"num\">float</span> by Pandas and values that could be considered <span class=\"str\">string/object</span> by Pandas in the same column. We'll ignore this warning for now, but will fix the values in this Case Study's column of interest <i>DailyPrecipitation</i> later. "
   ]
  },
  {
   "cell_type": "code",
   "execution_count": 10,
   "id": "1bd4ce3f",
   "metadata": {
    "scrolled": true
   },
   "outputs": [
    {
     "name": "stderr",
     "output_type": "stream",
     "text": [
      "C:\\Users\\alemran\\Miniconda3\\lib\\site-packages\\IPython\\core\\interactiveshell.py:3441: DtypeWarning: Columns (4,10,11,12,14,18,26,33,39) have mixed types.Specify dtype option on import or set low_memory=False.\n",
      "  exec(code_obj, self.user_global_ns, self.user_ns)\n"
     ]
    },
    {
     "data": {
      "text/html": [
       "<div>\n",
       "<style scoped>\n",
       "    .dataframe tbody tr th:only-of-type {\n",
       "        vertical-align: middle;\n",
       "    }\n",
       "\n",
       "    .dataframe tbody tr th {\n",
       "        vertical-align: top;\n",
       "    }\n",
       "\n",
       "    .dataframe thead th {\n",
       "        text-align: right;\n",
       "    }\n",
       "</style>\n",
       "<table border=\"1\" class=\"dataframe\">\n",
       "  <thead>\n",
       "    <tr style=\"text-align: right;\">\n",
       "      <th></th>\n",
       "      <th>STATION</th>\n",
       "      <th>DATE</th>\n",
       "      <th>REPORT_TYPE</th>\n",
       "      <th>DailyAverageDewPointTemperature</th>\n",
       "      <th>DailyAverageDryBulbTemperature</th>\n",
       "      <th>DailyAverageRelativeHumidity</th>\n",
       "      <th>DailyAverageSeaLevelPressure</th>\n",
       "      <th>DailyAverageStationPressure</th>\n",
       "      <th>DailyAverageWetBulbTemperature</th>\n",
       "      <th>DailyAverageWindSpeed</th>\n",
       "      <th>...</th>\n",
       "      <th>HourlyPressureTendency</th>\n",
       "      <th>HourlyRelativeHumidity</th>\n",
       "      <th>HourlySeaLevelPressure</th>\n",
       "      <th>HourlySkyConditions</th>\n",
       "      <th>HourlyStationPressure</th>\n",
       "      <th>HourlyVisibility</th>\n",
       "      <th>HourlyWetBulbTemperature</th>\n",
       "      <th>HourlyWindDirection</th>\n",
       "      <th>HourlyWindGustSpeed</th>\n",
       "      <th>HourlyWindSpeed</th>\n",
       "    </tr>\n",
       "  </thead>\n",
       "  <tbody>\n",
       "    <tr>\n",
       "      <th>0</th>\n",
       "      <td>72344593993</td>\n",
       "      <td>2012-10-16T00:53:00</td>\n",
       "      <td>FM-15</td>\n",
       "      <td>NaN</td>\n",
       "      <td>NaN</td>\n",
       "      <td>NaN</td>\n",
       "      <td>NaN</td>\n",
       "      <td>NaN</td>\n",
       "      <td>NaN</td>\n",
       "      <td>NaN</td>\n",
       "      <td>...</td>\n",
       "      <td>NaN</td>\n",
       "      <td>60.0</td>\n",
       "      <td>29.91</td>\n",
       "      <td>NaN</td>\n",
       "      <td>28.61</td>\n",
       "      <td>10</td>\n",
       "      <td>54.0</td>\n",
       "      <td>210</td>\n",
       "      <td>NaN</td>\n",
       "      <td>6.0</td>\n",
       "    </tr>\n",
       "    <tr>\n",
       "      <th>1</th>\n",
       "      <td>72344593993</td>\n",
       "      <td>2012-10-16T01:53:00</td>\n",
       "      <td>FM-15</td>\n",
       "      <td>NaN</td>\n",
       "      <td>NaN</td>\n",
       "      <td>NaN</td>\n",
       "      <td>NaN</td>\n",
       "      <td>NaN</td>\n",
       "      <td>NaN</td>\n",
       "      <td>NaN</td>\n",
       "      <td>...</td>\n",
       "      <td>NaN</td>\n",
       "      <td>62.0</td>\n",
       "      <td>29.89</td>\n",
       "      <td>NaN</td>\n",
       "      <td>28.59</td>\n",
       "      <td>10</td>\n",
       "      <td>53.0</td>\n",
       "      <td>210</td>\n",
       "      <td>NaN</td>\n",
       "      <td>3.0</td>\n",
       "    </tr>\n",
       "    <tr>\n",
       "      <th>2</th>\n",
       "      <td>72344593993</td>\n",
       "      <td>2012-10-16T02:53:00</td>\n",
       "      <td>FM-15</td>\n",
       "      <td>NaN</td>\n",
       "      <td>NaN</td>\n",
       "      <td>NaN</td>\n",
       "      <td>NaN</td>\n",
       "      <td>NaN</td>\n",
       "      <td>NaN</td>\n",
       "      <td>NaN</td>\n",
       "      <td>...</td>\n",
       "      <td>8.0</td>\n",
       "      <td>62.0</td>\n",
       "      <td>29.88</td>\n",
       "      <td>NaN</td>\n",
       "      <td>28.57</td>\n",
       "      <td>10</td>\n",
       "      <td>52.0</td>\n",
       "      <td>200</td>\n",
       "      <td>NaN</td>\n",
       "      <td>5.0</td>\n",
       "    </tr>\n",
       "    <tr>\n",
       "      <th>3</th>\n",
       "      <td>72344593993</td>\n",
       "      <td>2012-10-16T03:53:00</td>\n",
       "      <td>FM-15</td>\n",
       "      <td>NaN</td>\n",
       "      <td>NaN</td>\n",
       "      <td>NaN</td>\n",
       "      <td>NaN</td>\n",
       "      <td>NaN</td>\n",
       "      <td>NaN</td>\n",
       "      <td>NaN</td>\n",
       "      <td>...</td>\n",
       "      <td>NaN</td>\n",
       "      <td>72.0</td>\n",
       "      <td>29.87</td>\n",
       "      <td>NaN</td>\n",
       "      <td>28.56</td>\n",
       "      <td>10</td>\n",
       "      <td>50.0</td>\n",
       "      <td>190</td>\n",
       "      <td>NaN</td>\n",
       "      <td>7.0</td>\n",
       "    </tr>\n",
       "    <tr>\n",
       "      <th>4</th>\n",
       "      <td>72344593993</td>\n",
       "      <td>2012-10-16T04:53:00</td>\n",
       "      <td>FM-15</td>\n",
       "      <td>NaN</td>\n",
       "      <td>NaN</td>\n",
       "      <td>NaN</td>\n",
       "      <td>NaN</td>\n",
       "      <td>NaN</td>\n",
       "      <td>NaN</td>\n",
       "      <td>NaN</td>\n",
       "      <td>...</td>\n",
       "      <td>NaN</td>\n",
       "      <td>77.0</td>\n",
       "      <td>29.88</td>\n",
       "      <td>NaN</td>\n",
       "      <td>28.56</td>\n",
       "      <td>10</td>\n",
       "      <td>49.0</td>\n",
       "      <td>190</td>\n",
       "      <td>NaN</td>\n",
       "      <td>5.0</td>\n",
       "    </tr>\n",
       "  </tbody>\n",
       "</table>\n",
       "<p>5 rows × 41 columns</p>\n",
       "</div>"
      ],
      "text/plain": [
       "       STATION                 DATE REPORT_TYPE  \\\n",
       "0  72344593993  2012-10-16T00:53:00       FM-15   \n",
       "1  72344593993  2012-10-16T01:53:00       FM-15   \n",
       "2  72344593993  2012-10-16T02:53:00       FM-15   \n",
       "3  72344593993  2012-10-16T03:53:00       FM-15   \n",
       "4  72344593993  2012-10-16T04:53:00       FM-15   \n",
       "\n",
       "   DailyAverageDewPointTemperature DailyAverageDryBulbTemperature  \\\n",
       "0                              NaN                            NaN   \n",
       "1                              NaN                            NaN   \n",
       "2                              NaN                            NaN   \n",
       "3                              NaN                            NaN   \n",
       "4                              NaN                            NaN   \n",
       "\n",
       "   DailyAverageRelativeHumidity  DailyAverageSeaLevelPressure  \\\n",
       "0                           NaN                           NaN   \n",
       "1                           NaN                           NaN   \n",
       "2                           NaN                           NaN   \n",
       "3                           NaN                           NaN   \n",
       "4                           NaN                           NaN   \n",
       "\n",
       "   DailyAverageStationPressure  DailyAverageWetBulbTemperature  \\\n",
       "0                          NaN                             NaN   \n",
       "1                          NaN                             NaN   \n",
       "2                          NaN                             NaN   \n",
       "3                          NaN                             NaN   \n",
       "4                          NaN                             NaN   \n",
       "\n",
       "   DailyAverageWindSpeed  ... HourlyPressureTendency HourlyRelativeHumidity  \\\n",
       "0                    NaN  ...                    NaN                   60.0   \n",
       "1                    NaN  ...                    NaN                   62.0   \n",
       "2                    NaN  ...                    8.0                   62.0   \n",
       "3                    NaN  ...                    NaN                   72.0   \n",
       "4                    NaN  ...                    NaN                   77.0   \n",
       "\n",
       "  HourlySeaLevelPressure  HourlySkyConditions HourlyStationPressure  \\\n",
       "0                  29.91                  NaN                 28.61   \n",
       "1                  29.89                  NaN                 28.59   \n",
       "2                  29.88                  NaN                 28.57   \n",
       "3                  29.87                  NaN                 28.56   \n",
       "4                  29.88                  NaN                 28.56   \n",
       "\n",
       "   HourlyVisibility  HourlyWetBulbTemperature HourlyWindDirection  \\\n",
       "0                10                      54.0                 210   \n",
       "1                10                      53.0                 210   \n",
       "2                10                      52.0                 200   \n",
       "3                10                      50.0                 190   \n",
       "4                10                      49.0                 190   \n",
       "\n",
       "  HourlyWindGustSpeed HourlyWindSpeed  \n",
       "0                 NaN             6.0  \n",
       "1                 NaN             3.0  \n",
       "2                 NaN             5.0  \n",
       "3                 NaN             7.0  \n",
       "4                 NaN             5.0  \n",
       "\n",
       "[5 rows x 41 columns]"
      ]
     },
     "execution_count": 10,
     "metadata": {},
     "output_type": "execute_result"
    }
   ],
   "source": [
    "# Open csv and read into DataFrame. \n",
    "all_weather = pd.read_csv(\"Data/2750818.csv\")\n",
    "all_weather.head()"
   ]
  },
  {
   "cell_type": "markdown",
   "id": "4b5c390c",
   "metadata": {},
   "source": [
    "<h4><u>Checking DataFrame Info</u></h4>\n",
    "\n",
    "To get a better idea on the warning above and the type of data stored in <b><i>all_weather</i></b> let's run the <b><i>info</i></b> method. "
   ]
  },
  {
   "cell_type": "code",
   "execution_count": 11,
   "id": "cfd00cd2",
   "metadata": {},
   "outputs": [
    {
     "name": "stdout",
     "output_type": "stream",
     "text": [
      "<class 'pandas.core.frame.DataFrame'>\n",
      "RangeIndex: 107195 entries, 0 to 107194\n",
      "Data columns (total 41 columns):\n",
      " #   Column                                      Non-Null Count   Dtype  \n",
      "---  ------                                      --------------   -----  \n",
      " 0   STATION                                     107195 non-null  int64  \n",
      " 1   DATE                                        107195 non-null  object \n",
      " 2   REPORT_TYPE                                 107195 non-null  object \n",
      " 3   DailyAverageDewPointTemperature             3176 non-null    float64\n",
      " 4   DailyAverageDryBulbTemperature              3285 non-null    object \n",
      " 5   DailyAverageRelativeHumidity                3179 non-null    float64\n",
      " 6   DailyAverageSeaLevelPressure                3175 non-null    float64\n",
      " 7   DailyAverageStationPressure                 3282 non-null    float64\n",
      " 8   DailyAverageWetBulbTemperature              3176 non-null    float64\n",
      " 9   DailyAverageWindSpeed                       3284 non-null    float64\n",
      " 10  DailyCoolingDegreeDays                      3285 non-null    object \n",
      " 11  DailyDepartureFromNormalAverageTemperature  3285 non-null    object \n",
      " 12  DailyHeatingDegreeDays                      3285 non-null    object \n",
      " 13  DailyMaximumDryBulbTemperature              3285 non-null    float64\n",
      " 14  DailyMinimumDryBulbTemperature              3285 non-null    object \n",
      " 15  DailyPeakWindDirection                      3252 non-null    float64\n",
      " 16  DailyPeakWindSpeed                          3254 non-null    float64\n",
      " 17  DailyPrecipitation                          3285 non-null    object \n",
      " 18  DailySnowDepth                              3284 non-null    object \n",
      " 19  DailySnowfall                               3284 non-null    object \n",
      " 20  DailySustainedWindDirection                 3285 non-null    float64\n",
      " 21  DailySustainedWindSpeed                     3285 non-null    float64\n",
      " 22  DailyWeather                                1905 non-null    object \n",
      " 23  HDSD                                        108 non-null     float64\n",
      " 24  HTDD                                        108 non-null     float64\n",
      " 25  HourlyAltimeterSetting                      101322 non-null  object \n",
      " 26  HourlyDewPointTemperature                   100996 non-null  object \n",
      " 27  HourlyDryBulbTemperature                    101267 non-null  object \n",
      " 28  HourlyPrecipitation                         85924 non-null   object \n",
      " 29  HourlyPresentWeatherType                    24331 non-null   object \n",
      " 30  HourlyPressureChange                        26191 non-null   float64\n",
      " 31  HourlyPressureTendency                      26191 non-null   float64\n",
      " 32  HourlyRelativeHumidity                      100990 non-null  float64\n",
      " 33  HourlySeaLevelPressure                      78673 non-null   object \n",
      " 34  HourlySkyConditions                         98325 non-null   object \n",
      " 35  HourlyStationPressure                       101188 non-null  object \n",
      " 36  HourlyVisibility                            101274 non-null  object \n",
      " 37  HourlyWetBulbTemperature                    100841 non-null  float64\n",
      " 38  HourlyWindDirection                         100782 non-null  object \n",
      " 39  HourlyWindGustSpeed                         14443 non-null   object \n",
      " 40  HourlyWindSpeed                             100785 non-null  float64\n",
      "dtypes: float64(18), int64(1), object(22)\n",
      "memory usage: 33.5+ MB\n"
     ]
    }
   ],
   "source": [
    "# Get information about all_weather DataFrame\n",
    "all_weather.info()"
   ]
  },
  {
   "cell_type": "markdown",
   "id": "9f40ddf8",
   "metadata": {},
   "source": [
    "<h4><u>Extracting Daily Summaries</u></h4>\n",
    "\n",
    "As shown by the <b><i>info</i></b> method above, the <b><i>all_weather</i></b> DataFrame contains hourly, daily, and monthly records. This Case Study focuses on the <b><i>daily</i></b> time period which is represented as <i>SOD</i> in the <i>REPORT_TYPE</i> column. Some values in the <i>REPORT_TYPE</i> column have unnecessary whitespace that must be remove to correctly extract the rows. This can be done by selecting the <i>REPORT_TYPE</i> column, accessing its values as strings and stripping the whitespace using <b><i>strip</i></b>. "
   ]
  },
  {
   "cell_type": "code",
   "execution_count": 12,
   "id": "1ec4b73c",
   "metadata": {
    "scrolled": true
   },
   "outputs": [
    {
     "data": {
      "text/html": [
       "<div>\n",
       "<style scoped>\n",
       "    .dataframe tbody tr th:only-of-type {\n",
       "        vertical-align: middle;\n",
       "    }\n",
       "\n",
       "    .dataframe tbody tr th {\n",
       "        vertical-align: top;\n",
       "    }\n",
       "\n",
       "    .dataframe thead th {\n",
       "        text-align: right;\n",
       "    }\n",
       "</style>\n",
       "<table border=\"1\" class=\"dataframe\">\n",
       "  <thead>\n",
       "    <tr style=\"text-align: right;\">\n",
       "      <th></th>\n",
       "      <th>STATION</th>\n",
       "      <th>DATE</th>\n",
       "      <th>REPORT_TYPE</th>\n",
       "      <th>DailyAverageDewPointTemperature</th>\n",
       "      <th>DailyAverageDryBulbTemperature</th>\n",
       "      <th>DailyAverageRelativeHumidity</th>\n",
       "      <th>DailyAverageSeaLevelPressure</th>\n",
       "      <th>DailyAverageStationPressure</th>\n",
       "      <th>DailyAverageWetBulbTemperature</th>\n",
       "      <th>DailyAverageWindSpeed</th>\n",
       "      <th>...</th>\n",
       "      <th>HourlyPressureTendency</th>\n",
       "      <th>HourlyRelativeHumidity</th>\n",
       "      <th>HourlySeaLevelPressure</th>\n",
       "      <th>HourlySkyConditions</th>\n",
       "      <th>HourlyStationPressure</th>\n",
       "      <th>HourlyVisibility</th>\n",
       "      <th>HourlyWetBulbTemperature</th>\n",
       "      <th>HourlyWindDirection</th>\n",
       "      <th>HourlyWindGustSpeed</th>\n",
       "      <th>HourlyWindSpeed</th>\n",
       "    </tr>\n",
       "  </thead>\n",
       "  <tbody>\n",
       "    <tr>\n",
       "      <th>0</th>\n",
       "      <td>72344593993</td>\n",
       "      <td>2012-10-16T00:53:00</td>\n",
       "      <td>FM-15</td>\n",
       "      <td>NaN</td>\n",
       "      <td>NaN</td>\n",
       "      <td>NaN</td>\n",
       "      <td>NaN</td>\n",
       "      <td>NaN</td>\n",
       "      <td>NaN</td>\n",
       "      <td>NaN</td>\n",
       "      <td>...</td>\n",
       "      <td>NaN</td>\n",
       "      <td>60.0</td>\n",
       "      <td>29.91</td>\n",
       "      <td>NaN</td>\n",
       "      <td>28.61</td>\n",
       "      <td>10</td>\n",
       "      <td>54.0</td>\n",
       "      <td>210</td>\n",
       "      <td>NaN</td>\n",
       "      <td>6.0</td>\n",
       "    </tr>\n",
       "    <tr>\n",
       "      <th>1</th>\n",
       "      <td>72344593993</td>\n",
       "      <td>2012-10-16T01:53:00</td>\n",
       "      <td>FM-15</td>\n",
       "      <td>NaN</td>\n",
       "      <td>NaN</td>\n",
       "      <td>NaN</td>\n",
       "      <td>NaN</td>\n",
       "      <td>NaN</td>\n",
       "      <td>NaN</td>\n",
       "      <td>NaN</td>\n",
       "      <td>...</td>\n",
       "      <td>NaN</td>\n",
       "      <td>62.0</td>\n",
       "      <td>29.89</td>\n",
       "      <td>NaN</td>\n",
       "      <td>28.59</td>\n",
       "      <td>10</td>\n",
       "      <td>53.0</td>\n",
       "      <td>210</td>\n",
       "      <td>NaN</td>\n",
       "      <td>3.0</td>\n",
       "    </tr>\n",
       "    <tr>\n",
       "      <th>2</th>\n",
       "      <td>72344593993</td>\n",
       "      <td>2012-10-16T02:53:00</td>\n",
       "      <td>FM-15</td>\n",
       "      <td>NaN</td>\n",
       "      <td>NaN</td>\n",
       "      <td>NaN</td>\n",
       "      <td>NaN</td>\n",
       "      <td>NaN</td>\n",
       "      <td>NaN</td>\n",
       "      <td>NaN</td>\n",
       "      <td>...</td>\n",
       "      <td>8.0</td>\n",
       "      <td>62.0</td>\n",
       "      <td>29.88</td>\n",
       "      <td>NaN</td>\n",
       "      <td>28.57</td>\n",
       "      <td>10</td>\n",
       "      <td>52.0</td>\n",
       "      <td>200</td>\n",
       "      <td>NaN</td>\n",
       "      <td>5.0</td>\n",
       "    </tr>\n",
       "    <tr>\n",
       "      <th>3</th>\n",
       "      <td>72344593993</td>\n",
       "      <td>2012-10-16T03:53:00</td>\n",
       "      <td>FM-15</td>\n",
       "      <td>NaN</td>\n",
       "      <td>NaN</td>\n",
       "      <td>NaN</td>\n",
       "      <td>NaN</td>\n",
       "      <td>NaN</td>\n",
       "      <td>NaN</td>\n",
       "      <td>NaN</td>\n",
       "      <td>...</td>\n",
       "      <td>NaN</td>\n",
       "      <td>72.0</td>\n",
       "      <td>29.87</td>\n",
       "      <td>NaN</td>\n",
       "      <td>28.56</td>\n",
       "      <td>10</td>\n",
       "      <td>50.0</td>\n",
       "      <td>190</td>\n",
       "      <td>NaN</td>\n",
       "      <td>7.0</td>\n",
       "    </tr>\n",
       "    <tr>\n",
       "      <th>4</th>\n",
       "      <td>72344593993</td>\n",
       "      <td>2012-10-16T04:53:00</td>\n",
       "      <td>FM-15</td>\n",
       "      <td>NaN</td>\n",
       "      <td>NaN</td>\n",
       "      <td>NaN</td>\n",
       "      <td>NaN</td>\n",
       "      <td>NaN</td>\n",
       "      <td>NaN</td>\n",
       "      <td>NaN</td>\n",
       "      <td>...</td>\n",
       "      <td>NaN</td>\n",
       "      <td>77.0</td>\n",
       "      <td>29.88</td>\n",
       "      <td>NaN</td>\n",
       "      <td>28.56</td>\n",
       "      <td>10</td>\n",
       "      <td>49.0</td>\n",
       "      <td>190</td>\n",
       "      <td>NaN</td>\n",
       "      <td>5.0</td>\n",
       "    </tr>\n",
       "  </tbody>\n",
       "</table>\n",
       "<p>5 rows × 41 columns</p>\n",
       "</div>"
      ],
      "text/plain": [
       "       STATION                 DATE REPORT_TYPE  \\\n",
       "0  72344593993  2012-10-16T00:53:00       FM-15   \n",
       "1  72344593993  2012-10-16T01:53:00       FM-15   \n",
       "2  72344593993  2012-10-16T02:53:00       FM-15   \n",
       "3  72344593993  2012-10-16T03:53:00       FM-15   \n",
       "4  72344593993  2012-10-16T04:53:00       FM-15   \n",
       "\n",
       "   DailyAverageDewPointTemperature DailyAverageDryBulbTemperature  \\\n",
       "0                              NaN                            NaN   \n",
       "1                              NaN                            NaN   \n",
       "2                              NaN                            NaN   \n",
       "3                              NaN                            NaN   \n",
       "4                              NaN                            NaN   \n",
       "\n",
       "   DailyAverageRelativeHumidity  DailyAverageSeaLevelPressure  \\\n",
       "0                           NaN                           NaN   \n",
       "1                           NaN                           NaN   \n",
       "2                           NaN                           NaN   \n",
       "3                           NaN                           NaN   \n",
       "4                           NaN                           NaN   \n",
       "\n",
       "   DailyAverageStationPressure  DailyAverageWetBulbTemperature  \\\n",
       "0                          NaN                             NaN   \n",
       "1                          NaN                             NaN   \n",
       "2                          NaN                             NaN   \n",
       "3                          NaN                             NaN   \n",
       "4                          NaN                             NaN   \n",
       "\n",
       "   DailyAverageWindSpeed  ... HourlyPressureTendency HourlyRelativeHumidity  \\\n",
       "0                    NaN  ...                    NaN                   60.0   \n",
       "1                    NaN  ...                    NaN                   62.0   \n",
       "2                    NaN  ...                    8.0                   62.0   \n",
       "3                    NaN  ...                    NaN                   72.0   \n",
       "4                    NaN  ...                    NaN                   77.0   \n",
       "\n",
       "  HourlySeaLevelPressure  HourlySkyConditions HourlyStationPressure  \\\n",
       "0                  29.91                  NaN                 28.61   \n",
       "1                  29.89                  NaN                 28.59   \n",
       "2                  29.88                  NaN                 28.57   \n",
       "3                  29.87                  NaN                 28.56   \n",
       "4                  29.88                  NaN                 28.56   \n",
       "\n",
       "   HourlyVisibility  HourlyWetBulbTemperature HourlyWindDirection  \\\n",
       "0                10                      54.0                 210   \n",
       "1                10                      53.0                 210   \n",
       "2                10                      52.0                 200   \n",
       "3                10                      50.0                 190   \n",
       "4                10                      49.0                 190   \n",
       "\n",
       "  HourlyWindGustSpeed HourlyWindSpeed  \n",
       "0                 NaN             6.0  \n",
       "1                 NaN             3.0  \n",
       "2                 NaN             5.0  \n",
       "3                 NaN             7.0  \n",
       "4                 NaN             5.0  \n",
       "\n",
       "[5 rows x 41 columns]"
      ]
     },
     "execution_count": 12,
     "metadata": {},
     "output_type": "execute_result"
    }
   ],
   "source": [
    "# Strip off whitespace from REPORT_TYPE column \n",
    "all_weather.iloc[:,2] = all_weather.iloc[:,2].str.strip()\n",
    "\n",
    "# Display first 5 rows \n",
    "all_weather.head()"
   ]
  },
  {
   "cell_type": "markdown",
   "id": "d59366e5",
   "metadata": {},
   "source": [
    "Now that the whitespace has been removed, the rows corresponding to daily summaries can be extracted by selecting rows where <i>REPORT_TYPE</i> is equal to <span class=\"str\">SOD</span>. At this point, columns that correspond to only the daily values are also selected. "
   ]
  },
  {
   "cell_type": "code",
   "execution_count": 13,
   "id": "a692db29",
   "metadata": {},
   "outputs": [
    {
     "data": {
      "text/html": [
       "<div>\n",
       "<style scoped>\n",
       "    .dataframe tbody tr th:only-of-type {\n",
       "        vertical-align: middle;\n",
       "    }\n",
       "\n",
       "    .dataframe tbody tr th {\n",
       "        vertical-align: top;\n",
       "    }\n",
       "\n",
       "    .dataframe thead th {\n",
       "        text-align: right;\n",
       "    }\n",
       "</style>\n",
       "<table border=\"1\" class=\"dataframe\">\n",
       "  <thead>\n",
       "    <tr style=\"text-align: right;\">\n",
       "      <th></th>\n",
       "      <th>STATION</th>\n",
       "      <th>DATE</th>\n",
       "      <th>REPORT_TYPE</th>\n",
       "      <th>DailyAverageDewPointTemperature</th>\n",
       "      <th>DailyAverageDryBulbTemperature</th>\n",
       "      <th>DailyDepartureFromNormalAverageTemperature</th>\n",
       "      <th>DailyHeatingDegreeDays</th>\n",
       "      <th>DailyMaximumDryBulbTemperature</th>\n",
       "      <th>DailyMinimumDryBulbTemperature</th>\n",
       "      <th>DailyPeakWindDirection</th>\n",
       "      <th>DailyPeakWindSpeed</th>\n",
       "      <th>DailyPrecipitation</th>\n",
       "      <th>DailySnowDepth</th>\n",
       "      <th>DailySnowfall</th>\n",
       "      <th>DailySustainedWindDirection</th>\n",
       "      <th>DailySustainedWindSpeed</th>\n",
       "      <th>DailyWeather</th>\n",
       "    </tr>\n",
       "  </thead>\n",
       "  <tbody>\n",
       "    <tr>\n",
       "      <th>24</th>\n",
       "      <td>72344593993</td>\n",
       "      <td>2012-10-16T23:59:00</td>\n",
       "      <td>SOD</td>\n",
       "      <td>44.0</td>\n",
       "      <td>65.0</td>\n",
       "      <td>7.3</td>\n",
       "      <td>0.0</td>\n",
       "      <td>77.0</td>\n",
       "      <td>52.0</td>\n",
       "      <td>180.0</td>\n",
       "      <td>35.0</td>\n",
       "      <td>0</td>\n",
       "      <td>0</td>\n",
       "      <td>0</td>\n",
       "      <td>190.0</td>\n",
       "      <td>25.0</td>\n",
       "      <td>NaN</td>\n",
       "    </tr>\n",
       "    <tr>\n",
       "      <th>60</th>\n",
       "      <td>72344593993</td>\n",
       "      <td>2012-10-17T23:59:00</td>\n",
       "      <td>SOD</td>\n",
       "      <td>55.0</td>\n",
       "      <td>57.0</td>\n",
       "      <td>-0.4</td>\n",
       "      <td>8.0</td>\n",
       "      <td>71.0</td>\n",
       "      <td>43.0</td>\n",
       "      <td>190.0</td>\n",
       "      <td>29.0</td>\n",
       "      <td>0.18</td>\n",
       "      <td>0</td>\n",
       "      <td>0</td>\n",
       "      <td>190.0</td>\n",
       "      <td>22.0</td>\n",
       "      <td>TS RA BR</td>\n",
       "    </tr>\n",
       "    <tr>\n",
       "      <th>86</th>\n",
       "      <td>72344593993</td>\n",
       "      <td>2012-10-18T23:59:00</td>\n",
       "      <td>SOD</td>\n",
       "      <td>30.0</td>\n",
       "      <td>52.0</td>\n",
       "      <td>-5.2</td>\n",
       "      <td>13.0</td>\n",
       "      <td>64.0</td>\n",
       "      <td>39.0</td>\n",
       "      <td>250.0</td>\n",
       "      <td>35.0</td>\n",
       "      <td>0</td>\n",
       "      <td>0</td>\n",
       "      <td>0</td>\n",
       "      <td>260.0</td>\n",
       "      <td>25.0</td>\n",
       "      <td>HZ</td>\n",
       "    </tr>\n",
       "    <tr>\n",
       "      <th>115</th>\n",
       "      <td>72344593993</td>\n",
       "      <td>2012-10-19T23:59:00</td>\n",
       "      <td>SOD</td>\n",
       "      <td>34.0</td>\n",
       "      <td>51.0</td>\n",
       "      <td>-5.9</td>\n",
       "      <td>14.0</td>\n",
       "      <td>62.0</td>\n",
       "      <td>39.0</td>\n",
       "      <td>300.0</td>\n",
       "      <td>33.0</td>\n",
       "      <td>0</td>\n",
       "      <td>0</td>\n",
       "      <td>0</td>\n",
       "      <td>300.0</td>\n",
       "      <td>21.0</td>\n",
       "      <td>HZ</td>\n",
       "    </tr>\n",
       "    <tr>\n",
       "      <th>140</th>\n",
       "      <td>72344593993</td>\n",
       "      <td>2012-10-20T23:59:00</td>\n",
       "      <td>SOD</td>\n",
       "      <td>42.0</td>\n",
       "      <td>56.0</td>\n",
       "      <td>-0.6</td>\n",
       "      <td>9.0</td>\n",
       "      <td>77.0</td>\n",
       "      <td>35.0</td>\n",
       "      <td>210.0</td>\n",
       "      <td>22.0</td>\n",
       "      <td>0</td>\n",
       "      <td>0</td>\n",
       "      <td>0</td>\n",
       "      <td>170.0</td>\n",
       "      <td>13.0</td>\n",
       "      <td>NaN</td>\n",
       "    </tr>\n",
       "  </tbody>\n",
       "</table>\n",
       "</div>"
      ],
      "text/plain": [
       "         STATION                 DATE REPORT_TYPE  \\\n",
       "24   72344593993  2012-10-16T23:59:00         SOD   \n",
       "60   72344593993  2012-10-17T23:59:00         SOD   \n",
       "86   72344593993  2012-10-18T23:59:00         SOD   \n",
       "115  72344593993  2012-10-19T23:59:00         SOD   \n",
       "140  72344593993  2012-10-20T23:59:00         SOD   \n",
       "\n",
       "     DailyAverageDewPointTemperature DailyAverageDryBulbTemperature  \\\n",
       "24                              44.0                           65.0   \n",
       "60                              55.0                           57.0   \n",
       "86                              30.0                           52.0   \n",
       "115                             34.0                           51.0   \n",
       "140                             42.0                           56.0   \n",
       "\n",
       "    DailyDepartureFromNormalAverageTemperature DailyHeatingDegreeDays  \\\n",
       "24                                         7.3                    0.0   \n",
       "60                                        -0.4                    8.0   \n",
       "86                                        -5.2                   13.0   \n",
       "115                                       -5.9                   14.0   \n",
       "140                                       -0.6                    9.0   \n",
       "\n",
       "     DailyMaximumDryBulbTemperature DailyMinimumDryBulbTemperature  \\\n",
       "24                             77.0                           52.0   \n",
       "60                             71.0                           43.0   \n",
       "86                             64.0                           39.0   \n",
       "115                            62.0                           39.0   \n",
       "140                            77.0                           35.0   \n",
       "\n",
       "     DailyPeakWindDirection  DailyPeakWindSpeed DailyPrecipitation  \\\n",
       "24                    180.0                35.0                  0   \n",
       "60                    190.0                29.0               0.18   \n",
       "86                    250.0                35.0                  0   \n",
       "115                   300.0                33.0                  0   \n",
       "140                   210.0                22.0                  0   \n",
       "\n",
       "    DailySnowDepth DailySnowfall  DailySustainedWindDirection  \\\n",
       "24               0             0                        190.0   \n",
       "60               0             0                        190.0   \n",
       "86               0             0                        260.0   \n",
       "115              0             0                        300.0   \n",
       "140              0             0                        170.0   \n",
       "\n",
       "     DailySustainedWindSpeed DailyWeather  \n",
       "24                      25.0          NaN  \n",
       "60                      22.0     TS RA BR  \n",
       "86                      25.0           HZ  \n",
       "115                     21.0           HZ  \n",
       "140                     13.0          NaN  "
      ]
     },
     "execution_count": 13,
     "metadata": {},
     "output_type": "execute_result"
    }
   ],
   "source": [
    "# Extract rows in which REPORT_TYPE is SOD for daily\n",
    "daily= all_weather[all_weather[\"REPORT_TYPE\"] == \"SOD\"]\n",
    "\n",
    "# Only keep columns corresponding to daily values\n",
    "# Specify column indices to keep \n",
    "col_idx = np.arange(0, 5)\n",
    "col_idx = np.append(col_idx, np.arange(11,23))\n",
    "\n",
    "# Extract those columns \n",
    "daily = daily.iloc[:, col_idx]\n",
    "\n",
    "# Display first 5 rows \n",
    "daily.head()\n"
   ]
  },
  {
   "cell_type": "markdown",
   "id": "0470ed3a",
   "metadata": {},
   "source": [
    "<h4><u>Pre-processing Daily Precipitation Data</u></h4>\n",
    "\n",
    "Now that the daily rows have been extracted into their own DataFrame, the next step is to remove any daily precipitation values that are not valid. "
   ]
  },
  {
   "cell_type": "code",
   "execution_count": 14,
   "id": "7063f029",
   "metadata": {},
   "outputs": [],
   "source": [
    "# Drop any days that do not have a DailyPrecipitation reading \n",
    "daily.dropna(subset = [\"DailyPrecipitation\"], inplace = True)"
   ]
  },
  {
   "cell_type": "markdown",
   "id": "5fe23b7e",
   "metadata": {},
   "source": [
    "Now that <b><i>na</i></b> values are removed, the next step is to decide what to conver the value of <i>T</i> to. This is what the warning was about when the csv file was first loaded. The <i>DailyPrecipitation</i> column contains both numerical values and characters. T means that a trace amount of precipitation occured [2]. For this Case Study, we will treat all precipitation with the value of T as 0. \n",
    "\n",
    "There is also one row in which <i>DailyPrecipitation</i> contains the value of 0.00s. This will be set to 0. "
   ]
  },
  {
   "cell_type": "code",
   "execution_count": 15,
   "id": "ec9a6e96",
   "metadata": {},
   "outputs": [
    {
     "name": "stdout",
     "output_type": "stream",
     "text": [
      "(3285, 17)\n",
      "(3284, 17)\n"
     ]
    }
   ],
   "source": [
    "daily.loc[daily[\"DailyPrecipitation\"] == \"T\", \"DailyPrecipitation\"] = \"0\"\n",
    "print(daily.shape)\n",
    "\n",
    "# Remove the row with 0.00s. Can't find what this should represent in the documentation. \n",
    "daily = daily[daily[\"DailyPrecipitation\"] != \"0.00s\"]\n",
    "print(daily.shape)"
   ]
  },
  {
   "cell_type": "markdown",
   "id": "df7612aa",
   "metadata": {},
   "source": [
    "The <i>DailyPrecipitation</i> column consists of all numerical values now. Let's convert the <i>DailyPrecipitation</i> column's data type to <span class=\"num\">float</span> to represent this. "
   ]
  },
  {
   "cell_type": "code",
   "execution_count": 16,
   "id": "cb3ad089",
   "metadata": {},
   "outputs": [],
   "source": [
    "# Convert DailyPrecipitation to float \n",
    "daily[[\"DailyPrecipitation\"]] = daily[[\"DailyPrecipitation\"]].astype(\"float\")"
   ]
  },
  {
   "cell_type": "markdown",
   "id": "e44511b5",
   "metadata": {},
   "source": [
    "Let's adjust the date in the <i>DATE</i> column to only include the year, month, and date. "
   ]
  },
  {
   "cell_type": "code",
   "execution_count": 17,
   "id": "e52a22e3",
   "metadata": {},
   "outputs": [],
   "source": [
    "# Get dates as series \n",
    "dates = daily[\"DATE\"].values\n",
    "\n",
    "# Remove time portion. If this is run more than once it will generate an error. \n",
    "dates = [x[:x.find(\"T\")] for x in dates if x.find(\"T\") != -1]\n",
    "\n",
    "daily[\"DATE\"] = dates"
   ]
  },
  {
   "cell_type": "code",
   "execution_count": 11,
   "id": "44407194",
   "metadata": {},
   "outputs": [
    {
     "data": {
      "text/html": [
       "<div>\n",
       "<style scoped>\n",
       "    .dataframe tbody tr th:only-of-type {\n",
       "        vertical-align: middle;\n",
       "    }\n",
       "\n",
       "    .dataframe tbody tr th {\n",
       "        vertical-align: top;\n",
       "    }\n",
       "\n",
       "    .dataframe thead th {\n",
       "        text-align: right;\n",
       "    }\n",
       "</style>\n",
       "<table border=\"1\" class=\"dataframe\">\n",
       "  <thead>\n",
       "    <tr style=\"text-align: right;\">\n",
       "      <th></th>\n",
       "      <th>STATION</th>\n",
       "      <th>DATE</th>\n",
       "      <th>REPORT_TYPE</th>\n",
       "      <th>DailyAverageDewPointTemperature</th>\n",
       "      <th>DailyAverageDryBulbTemperature</th>\n",
       "      <th>DailyDepartureFromNormalAverageTemperature</th>\n",
       "      <th>DailyHeatingDegreeDays</th>\n",
       "      <th>DailyMaximumDryBulbTemperature</th>\n",
       "      <th>DailyMinimumDryBulbTemperature</th>\n",
       "      <th>DailyPeakWindDirection</th>\n",
       "      <th>DailyPeakWindSpeed</th>\n",
       "      <th>DailyPrecipitation</th>\n",
       "      <th>DailySnowDepth</th>\n",
       "      <th>DailySnowfall</th>\n",
       "      <th>DailySustainedWindDirection</th>\n",
       "      <th>DailySustainedWindSpeed</th>\n",
       "      <th>DailyWeather</th>\n",
       "    </tr>\n",
       "  </thead>\n",
       "  <tbody>\n",
       "    <tr>\n",
       "      <th>24</th>\n",
       "      <td>72344593993</td>\n",
       "      <td>2012-10-16</td>\n",
       "      <td>SOD</td>\n",
       "      <td>44.0</td>\n",
       "      <td>65.0</td>\n",
       "      <td>7.3</td>\n",
       "      <td>0.0</td>\n",
       "      <td>77.0</td>\n",
       "      <td>52.0</td>\n",
       "      <td>180.0</td>\n",
       "      <td>35.0</td>\n",
       "      <td>0.00</td>\n",
       "      <td>0</td>\n",
       "      <td>0</td>\n",
       "      <td>190.0</td>\n",
       "      <td>25.0</td>\n",
       "      <td>NaN</td>\n",
       "    </tr>\n",
       "    <tr>\n",
       "      <th>60</th>\n",
       "      <td>72344593993</td>\n",
       "      <td>2012-10-17</td>\n",
       "      <td>SOD</td>\n",
       "      <td>55.0</td>\n",
       "      <td>57.0</td>\n",
       "      <td>-0.4</td>\n",
       "      <td>8.0</td>\n",
       "      <td>71.0</td>\n",
       "      <td>43.0</td>\n",
       "      <td>190.0</td>\n",
       "      <td>29.0</td>\n",
       "      <td>0.18</td>\n",
       "      <td>0</td>\n",
       "      <td>0</td>\n",
       "      <td>190.0</td>\n",
       "      <td>22.0</td>\n",
       "      <td>TS RA BR</td>\n",
       "    </tr>\n",
       "    <tr>\n",
       "      <th>86</th>\n",
       "      <td>72344593993</td>\n",
       "      <td>2012-10-18</td>\n",
       "      <td>SOD</td>\n",
       "      <td>30.0</td>\n",
       "      <td>52.0</td>\n",
       "      <td>-5.2</td>\n",
       "      <td>13.0</td>\n",
       "      <td>64.0</td>\n",
       "      <td>39.0</td>\n",
       "      <td>250.0</td>\n",
       "      <td>35.0</td>\n",
       "      <td>0.00</td>\n",
       "      <td>0</td>\n",
       "      <td>0</td>\n",
       "      <td>260.0</td>\n",
       "      <td>25.0</td>\n",
       "      <td>HZ</td>\n",
       "    </tr>\n",
       "    <tr>\n",
       "      <th>115</th>\n",
       "      <td>72344593993</td>\n",
       "      <td>2012-10-19</td>\n",
       "      <td>SOD</td>\n",
       "      <td>34.0</td>\n",
       "      <td>51.0</td>\n",
       "      <td>-5.9</td>\n",
       "      <td>14.0</td>\n",
       "      <td>62.0</td>\n",
       "      <td>39.0</td>\n",
       "      <td>300.0</td>\n",
       "      <td>33.0</td>\n",
       "      <td>0.00</td>\n",
       "      <td>0</td>\n",
       "      <td>0</td>\n",
       "      <td>300.0</td>\n",
       "      <td>21.0</td>\n",
       "      <td>HZ</td>\n",
       "    </tr>\n",
       "    <tr>\n",
       "      <th>140</th>\n",
       "      <td>72344593993</td>\n",
       "      <td>2012-10-20</td>\n",
       "      <td>SOD</td>\n",
       "      <td>42.0</td>\n",
       "      <td>56.0</td>\n",
       "      <td>-0.6</td>\n",
       "      <td>9.0</td>\n",
       "      <td>77.0</td>\n",
       "      <td>35.0</td>\n",
       "      <td>210.0</td>\n",
       "      <td>22.0</td>\n",
       "      <td>0.00</td>\n",
       "      <td>0</td>\n",
       "      <td>0</td>\n",
       "      <td>170.0</td>\n",
       "      <td>13.0</td>\n",
       "      <td>NaN</td>\n",
       "    </tr>\n",
       "  </tbody>\n",
       "</table>\n",
       "</div>"
      ],
      "text/plain": [
       "         STATION        DATE REPORT_TYPE  DailyAverageDewPointTemperature  \\\n",
       "24   72344593993  2012-10-16         SOD                             44.0   \n",
       "60   72344593993  2012-10-17         SOD                             55.0   \n",
       "86   72344593993  2012-10-18         SOD                             30.0   \n",
       "115  72344593993  2012-10-19         SOD                             34.0   \n",
       "140  72344593993  2012-10-20         SOD                             42.0   \n",
       "\n",
       "    DailyAverageDryBulbTemperature DailyDepartureFromNormalAverageTemperature  \\\n",
       "24                            65.0                                        7.3   \n",
       "60                            57.0                                       -0.4   \n",
       "86                            52.0                                       -5.2   \n",
       "115                           51.0                                       -5.9   \n",
       "140                           56.0                                       -0.6   \n",
       "\n",
       "    DailyHeatingDegreeDays  DailyMaximumDryBulbTemperature  \\\n",
       "24                     0.0                            77.0   \n",
       "60                     8.0                            71.0   \n",
       "86                    13.0                            64.0   \n",
       "115                   14.0                            62.0   \n",
       "140                    9.0                            77.0   \n",
       "\n",
       "    DailyMinimumDryBulbTemperature  DailyPeakWindDirection  \\\n",
       "24                            52.0                   180.0   \n",
       "60                            43.0                   190.0   \n",
       "86                            39.0                   250.0   \n",
       "115                           39.0                   300.0   \n",
       "140                           35.0                   210.0   \n",
       "\n",
       "     DailyPeakWindSpeed  DailyPrecipitation DailySnowDepth DailySnowfall  \\\n",
       "24                 35.0                0.00              0             0   \n",
       "60                 29.0                0.18              0             0   \n",
       "86                 35.0                0.00              0             0   \n",
       "115                33.0                0.00              0             0   \n",
       "140                22.0                0.00              0             0   \n",
       "\n",
       "     DailySustainedWindDirection  DailySustainedWindSpeed DailyWeather  \n",
       "24                         190.0                     25.0          NaN  \n",
       "60                         190.0                     22.0     TS RA BR  \n",
       "86                         260.0                     25.0           HZ  \n",
       "115                        300.0                     21.0           HZ  \n",
       "140                        170.0                     13.0          NaN  "
      ]
     },
     "execution_count": 11,
     "metadata": {},
     "output_type": "execute_result"
    }
   ],
   "source": [
    "daily.head()"
   ]
  },
  {
   "cell_type": "markdown",
   "id": "ad16f2db",
   "metadata": {},
   "source": [
    "Finally, let's make sure that the <i>DATE</i> column is stored as a datetime type. "
   ]
  },
  {
   "cell_type": "code",
   "execution_count": 18,
   "id": "62d399b7",
   "metadata": {},
   "outputs": [],
   "source": [
    "daily[\"DATE\"] = pd.to_datetime(daily[\"DATE\"], format = \"%Y-%m-%d\", errors = \"coerce\")\n"
   ]
  },
  {
   "cell_type": "markdown",
   "id": "4fc350ab",
   "metadata": {},
   "source": [
    "<h4><u>Extracting Weather Data for May</u></h4>\n",
    "\n",
    "In this Case Study, we will focus on precpitation events for the month of May. A precipitation event will be considered any non-zero <i>DailyPrecpitation</i> value. Let's extract the rows that correspond to May into a new DataFrame called <b><i>may</i></b>. "
   ]
  },
  {
   "cell_type": "code",
   "execution_count": 19,
   "id": "3cea215d",
   "metadata": {},
   "outputs": [
    {
     "data": {
      "text/plain": [
       "2016    366\n",
       "2020    366\n",
       "2013    365\n",
       "2014    365\n",
       "2015    365\n",
       "2017    365\n",
       "2018    365\n",
       "2019    364\n",
       "2021    286\n",
       "2012     77\n",
       "Name: DATE, dtype: int64"
      ]
     },
     "execution_count": 19,
     "metadata": {},
     "output_type": "execute_result"
    }
   ],
   "source": [
    "# Extract May \n",
    "may = daily[daily[\"DATE\"].dt.month == 5].reset_index()\n",
    "\n",
    "# Look at the number of years on record \n",
    "daily[\"DATE\"].dt.year.value_counts()"
   ]
  },
  {
   "cell_type": "markdown",
   "id": "39f41304",
   "metadata": {},
   "source": [
    "<h4><u>Daily Precipitation Events</u></h4>\n",
    "\n",
    "A day is considered to have a precpitation event occur on it if there if there is a value greater than 0 in <i>DailyPrecipitation</i>. Below is the number of day's in <b><i>may</i></b> that do and do not have a precipitation event occuring. "
   ]
  },
  {
   "cell_type": "code",
   "execution_count": 20,
   "id": "cdd7afeb",
   "metadata": {},
   "outputs": [
    {
     "name": "stdout",
     "output_type": "stream",
     "text": [
      "(148, 18)\n",
      "(131, 18)\n"
     ]
    }
   ],
   "source": [
    "# Number of days with no precipitation event occuring \n",
    "print(may[may[\"DailyPrecipitation\"] == 0].shape)\n",
    "\n",
    "# Number of days with a precipitation event occuring \n",
    "print(may[may[\"DailyPrecipitation\"] > 0].shape)\n"
   ]
  },
  {
   "cell_type": "markdown",
   "id": "710def1e",
   "metadata": {},
   "source": [
    "Since we're interested in days in which precipitation occured in May, let's create a new DataFrame called <b><i>years_df</i></b> that calculates the number of daily rainfall events that occured in May for each year. "
   ]
  },
  {
   "cell_type": "code",
   "execution_count": 21,
   "id": "6b65e9ce",
   "metadata": {},
   "outputs": [
    {
     "data": {
      "text/html": [
       "<div>\n",
       "<style scoped>\n",
       "    .dataframe tbody tr th:only-of-type {\n",
       "        vertical-align: middle;\n",
       "    }\n",
       "\n",
       "    .dataframe tbody tr th {\n",
       "        vertical-align: top;\n",
       "    }\n",
       "\n",
       "    .dataframe thead th {\n",
       "        text-align: right;\n",
       "    }\n",
       "</style>\n",
       "<table border=\"1\" class=\"dataframe\">\n",
       "  <thead>\n",
       "    <tr style=\"text-align: right;\">\n",
       "      <th></th>\n",
       "      <th>Year</th>\n",
       "      <th>Days Precip</th>\n",
       "    </tr>\n",
       "  </thead>\n",
       "  <tbody>\n",
       "    <tr>\n",
       "      <th>0</th>\n",
       "      <td>2013</td>\n",
       "      <td>10</td>\n",
       "    </tr>\n",
       "    <tr>\n",
       "      <th>1</th>\n",
       "      <td>2014</td>\n",
       "      <td>13</td>\n",
       "    </tr>\n",
       "    <tr>\n",
       "      <th>2</th>\n",
       "      <td>2015</td>\n",
       "      <td>22</td>\n",
       "    </tr>\n",
       "    <tr>\n",
       "      <th>3</th>\n",
       "      <td>2016</td>\n",
       "      <td>16</td>\n",
       "    </tr>\n",
       "    <tr>\n",
       "      <th>4</th>\n",
       "      <td>2017</td>\n",
       "      <td>11</td>\n",
       "    </tr>\n",
       "  </tbody>\n",
       "</table>\n",
       "</div>"
      ],
      "text/plain": [
       "   Year  Days Precip\n",
       "0  2013           10\n",
       "1  2014           13\n",
       "2  2015           22\n",
       "3  2016           16\n",
       "4  2017           11"
      ]
     },
     "execution_count": 21,
     "metadata": {},
     "output_type": "execute_result"
    }
   ],
   "source": [
    "# There's probably a better way to do this Code Cell but this gets the result\n",
    "# Calculate the number of days with rain events in May \n",
    "# Get the unique years \n",
    "years_df = pd.DataFrame(may[\"DATE\"].dt.year.value_counts())\n",
    "years = years_df.index.tolist()\n",
    "\n",
    "precip_data = []\n",
    "\n",
    "for year in years:\n",
    "    precip = may[may[\"DATE\"].dt.year == year][\"DailyPrecipitation\"]\n",
    "    precip_occur = [x for x in precip if x > 0]\n",
    "    precip_data.append([year, len(precip_occur)])\n",
    "\n",
    "may_precip_data = pd.DataFrame(precip_data, columns = [\"Year\", \"Days Precip\"])\n",
    "may_precip_data.head()"
   ]
  },
  {
   "cell_type": "markdown",
   "id": "a805df03",
   "metadata": {},
   "source": [
    "Now let's visualize the results of <b><i>years_df</i></b> as a barplot using Seaborn. "
   ]
  },
  {
   "cell_type": "code",
   "execution_count": 22,
   "id": "2c948122",
   "metadata": {},
   "outputs": [
    {
     "data": {
      "image/png": "[encoded data removed]",
      "text/plain": [
       "<Figure size 432x288 with 1 Axes>"
      ]
     },
     "metadata": {
      "needs_background": "light"
     },
     "output_type": "display_data"
    }
   ],
   "source": [
    "# Create bar plot showing the counts for the number of days in which rainfall occured \n",
    "days_precip_plot = sns.barplot(x = \"Year\", y = \"Days Precip\", data = may_precip_data, color = \"blue\")\n",
    "\n",
    "days_precip_plot.axes.set_title(\"Number of Days Precipitation Occurred in May\\nFayetteville, AR (2012 - 2021)\")\n",
    "\n",
    "plt.show()"
   ]
  },
  {
   "cell_type": "markdown",
   "id": "8bd7c1f9",
   "metadata": {},
   "source": [
    "<h4><u>Daily Precipitation as a Poisson Process</u></h4>\n",
    "\n",
    "The number of days that precipitation occurs can be modeled by the Poisson Distribution <a href = \"http://web.mit.edu/1.017/www/lecnotes_03/extras/Poisson/Poisson00.html\">(MIT, 2000)</a>. The number of days in May that a precipitation event has occured on is what's been calculated in <b><i>may_precip_data</i></b>.\n",
    "\n",
    "In order to model the number of days in May a precipitation event occurs with the Poisson distribution we need to calculate the parameter lambda. Lambda is the average number of days that a precipitation event has occured in may. However, lambda is a keyword in python, so this terminology can't be used as a variable name. Instead we'll call the parameter lambda <b><i>mu</i></b>. \n",
    "Calculate the average number of days (lambda) that precipitation occurred in May. \n",
    "\n",
    "<p style = \"font-size:8px\">Sources for Poisson Section </p>\n",
    "<ol style = \"font-size:8px\">\n",
    "    <li>NIST/SEMATECH. \"Poisson Distribution\". Engineering Statistics Handbook. https://www.itl.nist.gov/div898/handbook/eda/section3/eda366j.htm</li>\n",
    "    <li>MIT. \"Poisson Random Variables --Synthetic Rainfall Series\". http://web.mit.edu/1.017/www/lecnotes_03/extras/Poisson/Poisson00.html</li>\n",
    "\n",
    "</ol>"
   ]
  },
  {
   "cell_type": "code",
   "execution_count": 24,
   "id": "b0c9b830",
   "metadata": {},
   "outputs": [
    {
     "name": "stdout",
     "output_type": "stream",
     "text": [
      "14.555555555555555\n"
     ]
    }
   ],
   "source": [
    "# Take the average number of days rain occured in May (lambda) as mu\n",
    "mu = may_precip_data[\"Days Precip\"].mean()\n",
    "\n",
    "print(mu)"
   ]
  },
  {
   "cell_type": "markdown",
   "id": "bf9721b4",
   "metadata": {},
   "source": [
    "<h4><u>Graphing the Poisson PMF and CDF </u></h4>\n",
    "\n",
    "Now that we have a value for the Poisson distribution's parameter, let's plot the pdf for a Poisson random variable for our calculated value of mu with a generated set of data representing theoretical values of 0 to 31 days. We can also plot the pmf of the observed data in <b><i>may_precip_data</i></b>. "
   ]
  },
  {
   "cell_type": "code",
   "execution_count": 25,
   "id": "ca3c713b",
   "metadata": {},
   "outputs": [
    {
     "data": {
      "image/png": "[encoded data removed]",
      "text/plain": [
       "<Figure size 432x288 with 1 Axes>"
      ]
     },
     "metadata": {
      "needs_background": "light"
     },
     "output_type": "display_data"
    }
   ],
   "source": [
    "# https://docs.scipy.org/doc/scipy/reference/generated/scipy.stats.poisson.html\n",
    "# Plot PMF. Use Scipy's poisson instead of numpy \n",
    "\n",
    "# Create the range of days [0, 31]\n",
    "x_days = np.arange(0, 31, .01)\n",
    "y_days = poisson.pmf(x_days, mu = mu)\n",
    "plt.plot(x_days, y_days)\n",
    "\n",
    "# Sort may_rain_data by \"Days Rained\"\n",
    "may_precip_data = may_precip_data.sort_values(by = [\"Days Precip\"])\n",
    "\n",
    "# Plot the PMF using observed values \n",
    "plt.plot(may_precip_data[\"Days Precip\"], poisson.pmf(may_precip_data[\"Days Precip\"], mu = mu), \"o\", linestyle = \"-\")\n",
    "plt.title(\"PMF\")\n",
    "plt.xlabel(\"Number of Days (x)\")\n",
    "plt.ylabel(\"P(X=x)\")\n",
    "plt.legend(labels = [\"Simulated\", \"Observed\"])\n",
    "plt.show()\n"
   ]
  },
  {
   "cell_type": "markdown",
   "id": "c1e2235a",
   "metadata": {},
   "source": [
    "The observed precipitation event data in <b><i>may_precip_data</i></b> PMF closely resembles the generated precipitation data's PMF. However, the observed data does not have events occuring in the left or right tails of the generated PMF. \n",
    "\n",
    "Next let's compute the ECDF of the observed <b><i>may_precip_data</i></b> and generated data. You can use the ecdf function from DataCamp or write one of your own to compute the ecdf. "
   ]
  },
  {
   "cell_type": "code",
   "execution_count": 26,
   "id": "bd14a5a9",
   "metadata": {},
   "outputs": [],
   "source": [
    "# Function source: https://campus.datacamp.com/courses/statistical-thinking-in-python-part-1/graphical-exploratory-data-analysis?ex=12\n",
    "def ecdf(data):\n",
    "    \"\"\"Compute ECDF for a one-dimensional array of measurements.\"\"\"\n",
    "    # Number of data points: n\n",
    "    n = len(data)\n",
    "\n",
    "    # x-data for the ECDF: x\n",
    "    x = np.sort(data)\n",
    "\n",
    "    # y-data for the ECDF: y\n",
    "    y = np.arange(1, (n + 1)) / n\n",
    "\n",
    "    return x, y\n"
   ]
  },
  {
   "cell_type": "markdown",
   "id": "88c95113",
   "metadata": {},
   "source": [
    "Let's generate 10,000 samples from a Poisson distribution with lambda equal to the sample average mu. "
   ]
  },
  {
   "cell_type": "code",
   "execution_count": 27,
   "id": "19966952",
   "metadata": {},
   "outputs": [],
   "source": [
    "# Sample poisson distribution \n",
    "poisson_samples = np.random.poisson(lam = mu, size = 10000)"
   ]
  },
  {
   "cell_type": "markdown",
   "id": "57d43cc9",
   "metadata": {},
   "source": [
    "The ecdf can now be calculated from the generated <b><i>poisson_samples</i></b> and the observed <b><i>may_precip_data</i></b>. "
   ]
  },
  {
   "cell_type": "code",
   "execution_count": 28,
   "id": "80ac4f69",
   "metadata": {},
   "outputs": [],
   "source": [
    "x_sample, y_sample = ecdf(poisson_samples)\n",
    "x_observed, y_observed = ecdf(may_precip_data[\"Days Precip\"])"
   ]
  },
  {
   "cell_type": "markdown",
   "id": "48cb2124",
   "metadata": {},
   "source": [
    "Finally, the ECDF's can be plotted. "
   ]
  },
  {
   "cell_type": "code",
   "execution_count": 29,
   "id": "4e791339",
   "metadata": {},
   "outputs": [
    {
     "data": {
      "image/png": "[encoded data removed]",
      "text/plain": [
       "<Figure size 432x288 with 1 Axes>"
      ]
     },
     "metadata": {
      "needs_background": "light"
     },
     "output_type": "display_data"
    }
   ],
   "source": [
    "# ECDF \n",
    "plt.plot(x_sample, y_sample, marker='.', linestyle='none')\n",
    "plt.plot(x_observed, y_observed, marker = \"o\", linestyle = \"none\")\n",
    "plt.title(\"ECDF\")\n",
    "plt.xlabel(\"Number of Days (x)\")\n",
    "plt.ylabel(\"P(X <= x)\")\n",
    "plt.legend(labels=[\"Simulated\", \"Observed\"])\n",
    "plt.show()"
   ]
  },
  {
   "cell_type": "markdown",
   "id": "10c24ea9",
   "metadata": {},
   "source": [
    "<h4><u>Using the Poisson Distribution</u></h4>\n",
    "\n",
    "Let's see how we can use the Poisson distributoin to answer questions. We'll see two ways to do this. The first is by using the method in DataCamp of taking the sum of samples and dividing by the total number of samples. The second is using the <b><i>poisson.cdf</i></b> and <b><i>poisson.pmf</i></b> functions from scipy.stats.\n",
    "\n",
    "<b><i>Question: </i></b> What is the probability of 15 or less days of precipitation in May? "
   ]
  },
  {
   "cell_type": "code",
   "execution_count": 30,
   "id": "e73cf5a2",
   "metadata": {},
   "outputs": [
    {
     "name": "stdout",
     "output_type": "stream",
     "text": [
      "0.607\n",
      "0.6135154018168186\n"
     ]
    }
   ],
   "source": [
    "# P(X <= 15)\n",
    "n_less_15 = np.sum(x_sample <= 15)\n",
    "\n",
    "# Divide by total number of samples \n",
    "print(n_less_15/len(x_sample))\n",
    "\n",
    "# Calculate it from the distribution \n",
    "print(poisson.cdf(15, mu = mu))"
   ]
  },
  {
   "cell_type": "markdown",
   "id": "dffff9aa",
   "metadata": {},
   "source": [
    "<b><i>Question:</i></b> What is the probability that there will be exactly 20 days in May in which a precipitation event occurs?"
   ]
  },
  {
   "cell_type": "code",
   "execution_count": 31,
   "id": "0d1c42ed",
   "metadata": {},
   "outputs": [
    {
     "name": "stdout",
     "output_type": "stream",
     "text": [
      "0.0371\n",
      "0.03573169749889015\n"
     ]
    }
   ],
   "source": [
    "# P(X == 20)\n",
    "n_equal_20 = np.sum(x_sample == 20)\n",
    "print(n_equal_20/len(x_sample))\n",
    "\n",
    "print(poisson.pmf(20, mu = mu))\n"
   ]
  },
  {
   "cell_type": "markdown",
   "id": "79772fb7",
   "metadata": {},
   "source": [
    "Both the calculated value from the 10,000 generated samples and the value generated by the theoretical distribution are very similar. "
   ]
  },
  {
   "cell_type": "markdown",
   "id": "3ce838e9",
   "metadata": {},
   "source": [
    "<h4>Time between Precipitation Events and the Exponential Distribution </h4>\n",
    "\n",
    "The time between two precipitation events occuring can be modeled by the exponential distribution. The exponential distribution needs either the average time between two events calculated or the rate parameter calculated to use. Let's calculate both below.\n",
    "\n",
    "<p style = \"font-size:8px\">Sources for Exponential Section </p>\n",
    "<ol style = \"font-size:8px\">\n",
    "    <li>Lumen. Undated.\"The Exponential Distribution\". Introduction to Statistics. https://courses.lumenlearning.com/introstats1/chapter/the-exponential-distribution/</li>\n",
    "    <li>Rdecook. Undated. \"The Exponential Distribution and the Poisson Process\". Chapter 4 Continuous Random Variables and  Probability Distributions. University of Iowa. http://homepage.divms.uiowa.edu/~rdecook/stat2020/notes/ch4_pt3.pdf</li>\n",
    "    <li>Openstax. 2021. \"The Exponential Distribution\". Introductry to Business Statistics. https://openstax.org/books/introductory-business-statistics/pages/5-3-the-exponential-distribution</li>\n",
    "\n",
    "</ol>"
   ]
  },
  {
   "cell_type": "markdown",
   "id": "f6bcbbfe",
   "metadata": {},
   "source": [
    "<h4><u>Calculating mu and rate parameter for exponential distribution</u></h4>\n",
    "\n",
    "In this case, we are interested in the time between precipitation events. This is the time between a precipitation event for the 31 days in may. This is because our unit of time is days. To calculate the average time between precipitation events in May's 31 days we need to divide 31 by mu from above. \n",
    "\n",
    "We can also calculate the rate parameter of the exponential distribution by (1/exp_mu). "
   ]
  },
  {
   "cell_type": "code",
   "execution_count": 32,
   "id": "04464b57",
   "metadata": {},
   "outputs": [
    {
     "name": "stdout",
     "output_type": "stream",
     "text": [
      "2.1297709923664123\n",
      "0.46953405017921146\n"
     ]
    }
   ],
   "source": [
    "exp_mu = 31/mu\n",
    "print(exp_mu)\n",
    "\n",
    "exp_rate = 1/exp_mu\n",
    "print(exp_rate)"
   ]
  },
  {
   "cell_type": "markdown",
   "id": "fc7d08b8",
   "metadata": {},
   "source": [
    "Now that we have the parameters of the distribution, we can generate samples. The calculated average rate of time between precipitaton events <b><i>exp_mu</i></b> will be used to generate 10,000 samples from an Exponential distribution using NumPy's <b>exponential</b> function. "
   ]
  },
  {
   "cell_type": "code",
   "execution_count": 33,
   "id": "fadbc2b9",
   "metadata": {},
   "outputs": [],
   "source": [
    "# Generate 10,000 samples from an exponential distribution\n",
    "exp_samples = np.random.exponential(exp_mu, size=10000)"
   ]
  },
  {
   "cell_type": "markdown",
   "id": "27abe1ed",
   "metadata": {},
   "source": [
    "The text file <i>precip_event_times.txt</i> contains an estimate of the number of days between precipitation events for the <b><i>may_precip_data</i></b> DataFrame. Load this file as a NumPy array using the <b><i>loadtxt</i></b> method. "
   ]
  },
  {
   "cell_type": "code",
   "execution_count": 34,
   "id": "5b28003a",
   "metadata": {},
   "outputs": [],
   "source": [
    "# Load the text file containing time between precipitation events \n",
    "exp_event_times = np.loadtxt(\"Data//precip_event_times.txt\", delimiter = \",\")"
   ]
  },
  {
   "cell_type": "markdown",
   "id": "4018e4d3",
   "metadata": {},
   "source": [
    "<h4><u>Graphing the Exponential PDF and CDF</u></h4>\n",
    "\n",
    "Now that we have the observed time between precipitation events loaded as <b><i>exp_event_times</i></b> we can use it and the samples generated from an exponential distribution <b><i>exp_samples</i></b> to plot their ECDFs. "
   ]
  },
  {
   "cell_type": "code",
   "execution_count": 35,
   "id": "40053f73",
   "metadata": {},
   "outputs": [
    {
     "data": {
      "image/png": "[encoded data removed]",
      "text/plain": [
       "<Figure size 432x288 with 1 Axes>"
      ]
     },
     "metadata": {
      "needs_background": "light"
     },
     "output_type": "display_data"
    }
   ],
   "source": [
    "# ECDF from samples \n",
    "exp_x, exp_y = ecdf(exp_samples)\n",
    "plt.plot(exp_x, exp_y)\n",
    "\n",
    "# ECDF from observations \n",
    "exp_x_obs, exp_y_obs = ecdf(exp_event_times)\n",
    "plt.plot(exp_x_obs, exp_y_obs)\n",
    "\n",
    "plt.title(\"Days between Precipitation Events in May (CDF)\")\n",
    "plt.xlabel(\"Number of Days (x)\")\n",
    "plt.ylabel(\"P(X <= x)\")\n",
    "plt.legend(labels = [\"Simulated\", \"Observed\"])\n",
    "plt.show()"
   ]
  },
  {
   "cell_type": "markdown",
   "id": "bc21b398",
   "metadata": {},
   "source": [
    "The observed <b><i>exp_event_times</i></b> data is not a smooth curve as in the generated <b><i>exp_samples</i></b> data. This is becaause it contains a finite set of observations in which every theoretically possible value may not be observed. \n",
    "\n",
    "Next let's plot the PDF of the observed sample <b><i>exp_event_times</i></b> versus that of a generated sample <b><i>exp_samples</i></b>. For simplicity, we'll reuse the sorted versions of these (<b><i>exp_x_obs</i></b> and <b><i>exp_x</i></b>) returned by the <b>ecdf</b> function. The pdf plot will be generated using SciPy Stat's <b>expon.pdf</b> function. "
   ]
  },
  {
   "cell_type": "code",
   "execution_count": 36,
   "id": "2b145a89",
   "metadata": {},
   "outputs": [
    {
     "data": {
      "image/png": "[encoded data removed]",
      "text/plain": [
       "<Figure size 432x288 with 1 Axes>"
      ]
     },
     "metadata": {
      "needs_background": "light"
     },
     "output_type": "display_data"
    }
   ],
   "source": [
    "plt.plot(exp_x, expon.pdf(exp_x))\n",
    "plt.plot(exp_x_obs, expon.pdf(exp_x_obs))\n",
    "plt.title(\"Days between Precipitation Events in May (PDF)\")\n",
    "plt.xlabel(\"Number of Days (x)\")\n",
    "plt.ylabel(\"P(X <= x)\")\n",
    "plt.legend(labels = [\"Simulated\", \"Observed\"])\n",
    "\n",
    "plt.show()"
   ]
  },
  {
   "cell_type": "markdown",
   "id": "18aec4e0",
   "metadata": {},
   "source": [
    "As in the ECDF example above, the PDFs of the observed and simulated values are very similar. However, as in the case of the CDF the observed values do not capture all the theoretically possible number of days in between two precipiation events. "
   ]
  },
  {
   "cell_type": "markdown",
   "id": "3603bd84",
   "metadata": {},
   "source": [
    "<h4><u> Using the Exponential Distribution</u></h4>\n",
    "\n",
    "Let's use the exponential distribution to answer questions about the time between two precipitation events in May. Recall that the unit of time is days. The function <b>expCDF</b> can be used to compute the CDF for a unit of time between precipitation events when given the number of days and the rate. Recall that the rate has already been calculated above as <b><i>exp_rate</i></b>. "
   ]
  },
  {
   "cell_type": "code",
   "execution_count": 37,
   "id": "17dc96b8",
   "metadata": {},
   "outputs": [],
   "source": [
    "# Calculate Exponential Distribution CDF for value of time and rate \n",
    "def expCDF(x, rate):\n",
    "    e = math.exp(1)\n",
    "    f_x = 1 - (e**(-rate * x))\n",
    "    return f_x"
   ]
  },
  {
   "cell_type": "markdown",
   "id": "f02c5323",
   "metadata": {},
   "source": [
    "<b><i>Question:</i></b> What is the probability that it will take between 5 to 7 days for a precipitation event to occur?"
   ]
  },
  {
   "cell_type": "code",
   "execution_count": 38,
   "id": "0b67f73d",
   "metadata": {},
   "outputs": [
    {
     "name": "stdout",
     "output_type": "stream",
     "text": [
      "0.058216050713175704\n"
     ]
    }
   ],
   "source": [
    "# Probability of it taking 7 or less days to occur \n",
    "seven_days = expCDF(7, exp_rate)\n",
    "five_days = expCDF(5, exp_rate)\n",
    "\n",
    "five_to_seven = seven_days - five_days\n",
    "print(five_to_seven)"
   ]
  },
  {
   "cell_type": "markdown",
   "id": "d76ae349",
   "metadata": {},
   "source": [
    "<b><i>Question:</i></b> What is the probability that it will take fewer than 3 days for a precipitation event to occur? "
   ]
  },
  {
   "cell_type": "code",
   "execution_count": 39,
   "id": "eea5d9a9",
   "metadata": {},
   "outputs": [
    {
     "name": "stdout",
     "output_type": "stream",
     "text": [
      "0.7555152026523597\n"
     ]
    }
   ],
   "source": [
    "# Calculate the probability it takes 2 or less days\n",
    "three_or_less = expCDF(3, exp_rate)\n",
    "print(three_or_less)"
   ]
  },
  {
   "cell_type": "markdown",
   "id": "4f888a36",
   "metadata": {},
   "source": [
    "In the above sections you've seen how to use the Poisson and Exponential distributions with the Drake Field precipitation data. Both the Poisson and Exponential distributions required you to supply the parameters of the distributions. What if you wanted to use a non-parametric way to analyze the Drake Field distribution data?  \n",
    "\n",
    "The next section will cover how to use non-parametric methods with the Drake Field preciptation data. "
   ]
  },
  {
   "cell_type": "markdown",
   "id": "04a5da73",
   "metadata": {},
   "source": [
    "<h4><u>May Precipitation Amounts</u></h4>\n",
    "\n",
    "Previously we looked at the daily precipitation for May at Drake Field as the number of days in May with a precipiation event (Poisson distribution) and the rate of time between two consecutive precipitation events (Exponential distribution). Now let's look at the amount of precipitation that occured during each day in May. "
   ]
  },
  {
   "cell_type": "markdown",
   "id": "a6396bb3",
   "metadata": {},
   "source": [
    "<h4><u>Descriptive Statistics</u></h4>\n",
    "\n",
    "The Code Cell below calculates the descriptive statistics for daily precipitation in May at Drake Field. "
   ]
  },
  {
   "cell_type": "code",
   "execution_count": 40,
   "id": "e3e42dd8",
   "metadata": {},
   "outputs": [
    {
     "data": {
      "text/plain": [
       "count    279.00000\n",
       "mean       0.22595\n",
       "std        0.45434\n",
       "min        0.00000\n",
       "25%        0.00000\n",
       "50%        0.00000\n",
       "75%        0.24000\n",
       "max        2.28000\n",
       "Name: DailyPrecipitation, dtype: float64"
      ]
     },
     "execution_count": 40,
     "metadata": {},
     "output_type": "execute_result"
    }
   ],
   "source": [
    "may[\"DailyPrecipitation\"].describe()"
   ]
  },
  {
   "cell_type": "markdown",
   "id": "c74159da",
   "metadata": {},
   "source": [
    "<h4><u>Plotting Daily Precipitation</u></h4>\n",
    "\n",
    "Let's create a scatterplot to look at the precipitation amounts. "
   ]
  },
  {
   "cell_type": "code",
   "execution_count": 41,
   "id": "d94474d2",
   "metadata": {},
   "outputs": [
    {
     "data": {
      "image/png": "[encoded data removed]",
      "text/plain": [
       "<Figure size 432x288 with 1 Axes>"
      ]
     },
     "metadata": {
      "needs_background": "light"
     },
     "output_type": "display_data"
    }
   ],
   "source": [
    "# Plot observations \n",
    "plt.plot(may[\"DailyPrecipitation\"], \"o\")\n",
    "plt.title(\"May Daily Precipitation Observations\\nFayetteville, AR (2013 - 2021)\")\n",
    "plt.xlabel(\"Observation #\")\n",
    "plt.ylabel(\"Inches\")\n",
    "plt.show()"
   ]
  },
  {
   "cell_type": "markdown",
   "id": "d7d2e6ab",
   "metadata": {},
   "source": [
    "From the scatterplots we can see that the majority of days appear to have no precipitation or only a very small amount. Let's take another look using a boxplot. "
   ]
  },
  {
   "cell_type": "code",
   "execution_count": 42,
   "id": "af626638",
   "metadata": {},
   "outputs": [
    {
     "data": {
      "image/png": "[encoded data removed]",
      "text/plain": [
       "<Figure size 432x288 with 1 Axes>"
      ]
     },
     "metadata": {
      "needs_background": "light"
     },
     "output_type": "display_data"
    },
    {
     "name": "stdout",
     "output_type": "stream",
     "text": [
      "0.24\n"
     ]
    }
   ],
   "source": [
    "box_plot = sns.boxplot(x = \"DailyPrecipitation\", data = may)\n",
    "bp_ax = box_plot.axes\n",
    "bp_ax.set_title(\"Drake Field Daily Precipitation\\nMay, 2013 - 2021\")\n",
    "bp_ax.set_xlabel(\"Daily Precipitation (in.)\")\n",
    "plt.show()\n",
    "\n",
    "#print(iqr(may[\"DailyPrecipitation\"], rng = (0,10)))\n",
    "print(np.quantile(may[\"DailyPrecipitation\"], .75))"
   ]
  },
  {
   "cell_type": "markdown",
   "id": "1d38f899",
   "metadata": {},
   "source": [
    "From the boxplot, we can see that the majority of the daily observations still appear to have none to very little precipitation, however there are a number of outliers as indicated on the boxplot. \n",
    "\n",
    "Based on the number of daily precipitation observations for May we could probably model it with a Normal distribution. The goal of this section is to use a non-parametric approach however, so let's use bootstrapping with the daily precipitation data. "
   ]
  },
  {
   "cell_type": "markdown",
   "id": "a9ba1539",
   "metadata": {},
   "source": [
    "<h4><u>Daily Precipitation Data and Bootstrapping</u></h4>\n",
    "\n",
    "Let's create bootstrap samples based on the process in DataCamp's \"Introduction to Statistical Thinking (Part 2)\". In the code cell below, either create your own function from scratch or base your function on the ones from DataCamp to generate a bootstrap sample. "
   ]
  },
  {
   "cell_type": "code",
   "execution_count": 43,
   "id": "35d547b8",
   "metadata": {},
   "outputs": [],
   "source": [
    "def bootStrapSample(data): \n",
    "    a_sample = np.random.choice(data, len(data))\n",
    "    return a_sample"
   ]
  },
  {
   "cell_type": "code",
   "execution_count": 44,
   "id": "cf431440",
   "metadata": {},
   "outputs": [],
   "source": [
    "# Compute one bootstrap sample \n",
    "one_sample = bootStrapSample(may[\"DailyPrecipitation\"].to_numpy())"
   ]
  },
  {
   "cell_type": "markdown",
   "id": "9d66371c",
   "metadata": {},
   "source": [
    "Now that we have a bootstrap sample from the observed data we can calculate the bootstrap replicate from it. \n",
    "The bootstrap replicate for the May daily precipitation will be the mean value. In the observed sample data, the sample mean is .22595 or about .23 inches. In the Code Cell below, let's calculate the bootstrap replicate for <b><i>one_sample</i></b>. "
   ]
  },
  {
   "cell_type": "code",
   "execution_count": 45,
   "id": "d4a1c41f",
   "metadata": {},
   "outputs": [
    {
     "name": "stdout",
     "output_type": "stream",
     "text": [
      "0.24702508960573477\n"
     ]
    }
   ],
   "source": [
    "# Calculate the bootstrap replicate\n",
    "print(one_sample.mean())"
   ]
  },
  {
   "cell_type": "markdown",
   "id": "5e950c84",
   "metadata": {},
   "source": [
    "We need to generate more than a single bootstrap sample and replicate though. In the code cell below either base your function  on those from DataCamp's \"Introduction to Statistical Thinking (Part 2)\" or create your own from scratch to generate a given number bootstrap samples and return them. "
   ]
  },
  {
   "cell_type": "code",
   "execution_count": 46,
   "id": "4e818900",
   "metadata": {},
   "outputs": [],
   "source": [
    "def multipleSamples(n, data): \n",
    "    # Create empty numpy array the size of n \n",
    "    samples = []\n",
    "    \n",
    "    for i in range(n):\n",
    "        samples.append(bootStrapSample(data))\n",
    "    \n",
    "    return samples"
   ]
  },
  {
   "cell_type": "markdown",
   "id": "3dc33ade",
   "metadata": {},
   "source": [
    "Now let's generate 10,000 bootstrap samples using the function above. "
   ]
  },
  {
   "cell_type": "code",
   "execution_count": 47,
   "id": "ce51a581",
   "metadata": {},
   "outputs": [],
   "source": [
    "# Generate 10,000 bootstrap samples \n",
    "precip_10k = multipleSamples(10000, may[\"DailyPrecipitation\"])"
   ]
  },
  {
   "cell_type": "markdown",
   "id": "3e61ba05",
   "metadata": {},
   "source": [
    "Since our replicate of interest is the mean, we'll need to generate it for each of the bootstrap samples. This could be done like in the function from DataCamp or like in the Code Cell below. "
   ]
  },
  {
   "cell_type": "code",
   "execution_count": 48,
   "id": "d8037f85",
   "metadata": {},
   "outputs": [],
   "source": [
    "# Calculate the replicate (mean) for the 10k bootstrap samples \n",
    "mean_replicates = [x.mean() for x in precip_10k]"
   ]
  },
  {
   "cell_type": "markdown",
   "id": "8227d4ce",
   "metadata": {},
   "source": [
    "<h4><u>Histogram of Replicates</u></h4>\n",
    "\n",
    "Let's visualize the mean replicates of May's daily precipitation as a histogram using Seaborn's <b>displot</b> function. We'll let <b>displot</b> determine the number of bins automatically, specify the <b><i>kind</i></b> of plot as a histogram, and set the <b><i>stat</i></b> to probability to achieve an approximate PDF of the bootstrap replicates. "
   ]
  },
  {
   "cell_type": "code",
   "execution_count": 49,
   "id": "2703eaf9",
   "metadata": {},
   "outputs": [
    {
     "data": {
      "image/png": "[encoded data removed]",
      "text/plain": [
       "<Figure size 360x360 with 1 Axes>"
      ]
     },
     "metadata": {
      "needs_background": "light"
     },
     "output_type": "display_data"
    }
   ],
   "source": [
    "# Create a PDF of the bootstrap replicates \n",
    "mean_rep_pdf = sns.displot(x = mean_replicates, kind = \"hist\", stat = \"probability\")\n",
    "\n",
    "# Set the Figure title \n",
    "mean_rep_pdf.fig.suptitle(\"Bootstrap Mean Estimate\")\n",
    "\n",
    "# Access axes object to customize \n",
    "axs = mean_rep_pdf.axes\n",
    "axs[0][0].set_xlabel(\"Mean Daily Precipitation (May)\")\n",
    "axs[0][0].set_ylabel(\"PDF\")\n",
    "\n",
    "plt.show()"
   ]
  },
  {
   "cell_type": "markdown",
   "id": "42699883",
   "metadata": {},
   "source": [
    "<h4><u>Calculating Confidence Intervals </u></h4>\n",
    "\n",
    "Next let's calculate the 95% Confidence Interval for the mean daily precipitation from the bootstrap replicates stored in <b><i>mean_replicates</i></b> based on the method used in DataCamp which is NumPy's <b>percentile</b> function. \n",
    "\n",
    "<p style = \"font-size:8px\">Additional Sources outside of DataCamp for Confidence Intervals</p>\n",
    "<ol style = \"font-size:8px\">\n",
    "    <li>Tan & Tan. 2010. \"The Correct Interpretation of Confidence Intervals\". Proceedings of Singapore Healthcare 19:3. pp. 276 - 278. https://journals.sagepub.com/doi/pdf/10.1177/201010581001900316 . </li>\n",
    "    <li>Penn State.2021. \"Interpreting Confidence Intervals\". STAT 200. https://online.stat.psu.edu/stat200/lesson/4/4.2/4.2.1 . </li>\n",
    "</ol>"
   ]
  },
  {
   "cell_type": "code",
   "execution_count": 50,
   "id": "1b4815a3",
   "metadata": {},
   "outputs": [
    {
     "name": "stdout",
     "output_type": "stream",
     "text": [
      "[0.17333065 0.28107616]\n"
     ]
    }
   ],
   "source": [
    "# Calculate the 95% CI\n",
    "mean_rep_95_ci = np.percentile(mean_replicates, [2.5, 97.5])\n",
    "\n",
    "print(mean_rep_95_ci)"
   ]
  },
  {
   "cell_type": "markdown",
   "id": "3a09d5de",
   "metadata": {},
   "source": [
    "The 95% CI calculated above can be interpreted a follows: The true population mean lies between .17523208 and .28043011 with 95% confidence. This also means that the 95% CI will contain the true population mean 95% of the time. "
   ]
  },
  {
   "cell_type": "markdown",
   "id": "c11c7ae2",
   "metadata": {},
   "source": [
    "<h4><u>Hypothesis Testing</u></h4>\n",
    "\n",
    "In this section we'll look at how to set up a hypothesis test based on simulated data as in DataCamp's Part 2 Chapter 3. In this section, let's say that another weather station was set up to the east of Drake Field at Lake Wilson park and that it took measurements of daily precipitation during May also. (Note: There's not really another weather station at Lake Wilson). However, in this Case Study we don't have access to the raw data of the Lake Wilson station and only have the mean daily precipitation which is .2367 in. \n",
    "\n",
    "First let's set up the null hypothesis for this situation. The null hypothesis is: \n",
    "<br><b><i>There is no difference between the true May mean daily precipitation values of Drake Field and Lake Wilson</i></b>.  \n",
    "\n",
    "The alternative hypotheisis is: \n",
    "<br><b><i>There is a difference between the true May mean daily precipitation values of Drake Field and Lake Wilson</i></b>\n"
   ]
  },
  {
   "cell_type": "markdown",
   "id": "022805a9",
   "metadata": {},
   "source": [
    "<h4><u>Shifting May Daily Precipitation Data</u></h4>\n",
    "\n",
    "Now that the null and alternative hypotheses are set up we can proceed to the next step of shifting the <b><i>may</i></b> <i>DailyPrecipitation</i> data by the mean of the Lake Wilson data. "
   ]
  },
  {
   "cell_type": "code",
   "execution_count": 51,
   "id": "ea74272e",
   "metadata": {},
   "outputs": [
    {
     "data": {
      "text/plain": [
       "0    0.01075\n",
       "1    0.55075\n",
       "2    0.22075\n",
       "3    0.33075\n",
       "4    0.01075\n",
       "Name: DailyPrecipitation, dtype: float64"
      ]
     },
     "execution_count": 51,
     "metadata": {},
     "output_type": "execute_result"
    }
   ],
   "source": [
    "# Shift the May precipitation data \n",
    "may_shifted = may[\"DailyPrecipitation\"] - np.mean(may[\"DailyPrecipitation\"]) + .2367\n",
    "\n",
    "# See the first few values\n",
    "may_shifted.head()"
   ]
  },
  {
   "cell_type": "markdown",
   "id": "2c7cfc65",
   "metadata": {},
   "source": [
    "<h4><u>Bootstrapping Shifted Daily Precipitation Data</u></h4>\n",
    "\n",
    "The next step is to create the bootstrapped sample using the Lake Wilson mean value. 10,000 bootstrapped samples will be generated. "
   ]
  },
  {
   "cell_type": "code",
   "execution_count": 52,
   "id": "98fec82c",
   "metadata": {},
   "outputs": [],
   "source": [
    "# Create the bootstrapped sample \n",
    "lake_wilson = multipleSamples(10000, may_shifted)\n",
    "\n",
    "# Calculate the mean replicate of the bootstrapped samples \n",
    "lake_wilson_rep = [np.mean(x) for x in lake_wilson]"
   ]
  },
  {
   "cell_type": "markdown",
   "id": "9b61a70e",
   "metadata": {},
   "source": [
    "<h4><u>Calculating the p-value</u></h4>\n",
    "\n",
    "Now that the bootstrap replicates have been calculated for Lake Wilson, we can see how many of those mean replicates are less than the observed mean of <b><i>may[\"DailyPrecipitation\"]</i></b> as a fraction of the total number of replicates. \n",
    "\n",
    "In addition to setting up the hypotheses, the threshold of the p-value at which to accept or reject the null hypothesis needs to be determined . Let's set this to .05. If the calculated p-value is greater than .05 there is not a statistically significant difference between the two daily precipitation means. If the calculated p-value is less than .05 there is a statistically significant difference between the two daily precipitation means. \n"
   ]
  },
  {
   "cell_type": "code",
   "execution_count": 53,
   "id": "0f262a13",
   "metadata": {},
   "outputs": [
    {
     "name": "stdout",
     "output_type": "stream",
     "text": [
      "0.3533\n"
     ]
    }
   ],
   "source": [
    "# Calculate the mean daily precipitation in May for Drake Field \n",
    "may_mean = np.mean(may[\"DailyPrecipitation\"])\n",
    "\n",
    "#Compute the number of bootstrap replicates that are less than the observed mean and divide by total number of replicates \n",
    "p_val = np.sum((np.asarray(lake_wilson_rep) <= may_mean)) / len(lake_wilson_rep)\n",
    "\n",
    "# Print the p_val\n",
    "print(p_val)"
   ]
  },
  {
   "cell_type": "markdown",
   "id": "2297aa4d",
   "metadata": {},
   "source": [
    "The calculated p-value is .3598 which is greater than .05. This means that the null hypothesis should be accepted. There is no statistically significant difference between the average May daily precipitation data between the two weather stations. "
   ]
  },
  {
   "cell_type": "markdown",
   "id": "ea456c6f",
   "metadata": {},
   "source": [
    "<h3 class=\"yt\">Your Turn</h3>\n",
    "\n",
    "In this Your Turn you will use the <i>Sheffield Weather Station</i> data from DataCamp's Statistical Thinking in Python (Part 2). The <i>Sheffield Weather Station</i> data is located on the bottom right of the course's main page under Datasets. \n",
    "\n"
   ]
  },
  {
   "cell_type": "markdown",
   "id": "0d34de26",
   "metadata": {},
   "source": [
    "<h3 class=\"yt\">Your Turn - 1</h3>\n",
    "\n",
    "Access the Sheffield Weather Station data on DataCamp and read it into a format suitable for data analysis. Extract into a DataFrame all rows that occur for the <b><i>month of March</i></b>. "
   ]
  },
  {
   "cell_type": "code",
   "execution_count": 47,
   "id": "3283c74f",
   "metadata": {},
   "outputs": [],
   "source": [
    "# Your Turn - 1"
   ]
  },
  {
   "cell_type": "markdown",
   "id": "66286601",
   "metadata": {},
   "source": [
    "<h3 class=\"yt\">Your Turn - 2</h3>\n",
    "\n",
    "You are interested in the <b><i>number of years in a 10 year period that March experiences a rainfall of greater than 70mm</i></b> at Sheffield. For a 10 year time period, calculate the average number times March exceeds 70mm of rainfall and print it. "
   ]
  },
  {
   "cell_type": "code",
   "execution_count": null,
   "id": "c9580843",
   "metadata": {},
   "outputs": [],
   "source": [
    "# Your Turn - 2"
   ]
  },
  {
   "cell_type": "markdown",
   "id": "3de00b87",
   "metadata": {},
   "source": [
    "<h3 class=\"yt\">Your Turn - 3</h3>\n",
    "\n",
    "The number of times March rainfall exceeds 70mm in a 10 year time period can be modeled as a Poisson process. Use the average you calculated in <span class = \"yt\">Your Turn 2</span> as the parameter lambda. Answer the following questions: \n",
    "\n",
    "<b><i>Question 1:</i></b>For a 10 year time period, what is the probability that exactly 6 Marches have a rainfall exceeding 70mm? \n",
    "\n",
    "<b><i>Question 2:</i></b>For a 10 year time period, what is the probability that at most 3 Marches will experience 70mm or more rainfall? \n",
    "\n",
    "<b><i>Question 3:</i></b>For a 10 year time period, what is the probability that at least 2 Marches will experience 70mm or more?\n",
    "\n"
   ]
  },
  {
   "cell_type": "code",
   "execution_count": 48,
   "id": "07a22af2",
   "metadata": {},
   "outputs": [],
   "source": [
    "# Your Turn - 3"
   ]
  },
  {
   "cell_type": "markdown",
   "id": "5c366425",
   "metadata": {},
   "source": [
    "<h3 class=\"yt\">Your Turn - 4</h3>\n",
    "\n",
    "Create two different plots showing March rainfall amounts in Sheffield. One plot needs to be the ECDF of the rainfall data. The other can be of your choosing. "
   ]
  },
  {
   "cell_type": "code",
   "execution_count": 49,
   "id": "07374309",
   "metadata": {
    "scrolled": true
   },
   "outputs": [],
   "source": [
    "# Your Turn - 4"
   ]
  },
  {
   "cell_type": "markdown",
   "id": "11579acb",
   "metadata": {},
   "source": [
    "<h3 class=\"yt\">Your Turn - 5</h3>\n",
    "Generate 10,000 bootstrap replicates from the Sheffield March rain data. Using these, calculate the 95% CI of the mean. "
   ]
  },
  {
   "cell_type": "code",
   "execution_count": null,
   "id": "d74b8520",
   "metadata": {},
   "outputs": [],
   "source": [
    "# Your Turn - 5"
   ]
  },
  {
   "cell_type": "markdown",
   "id": "3866651e",
   "metadata": {},
   "source": [
    "<h3 class=\"yt\">Your Turn - 6</h3>\n",
    "\n",
    "You are interested in seeing if the average March rainfall at the Sheffield weather station is different from the average March rainfall at a weather station approximately 50 miles away. You do not have the data for this weather station only the average <b><i>March rainfall amount of 66.43mm</i></b>. \n",
    "\n",
    "Conduct a hypothesis test to check if there is any difference between the average March rainfall data between the two weather stations. Make sure to state your null and alternative hypotheses, the p-value at which you will accept or reject the null hypothesis, conduct the necessary steps to test the hypothesis, and state your conclusion once complete. \n"
   ]
  },
  {
   "cell_type": "code",
   "execution_count": 50,
   "id": "4ed8af07",
   "metadata": {},
   "outputs": [],
   "source": [
    "# Your Turn - 6"
   ]
  }
 ],
 "metadata": {
  "interpreter": {
   "hash": "05b8cb40120887dbe507a8d2231a1a086b5c62296aa4af08f14b983708ed8dc7"
  },
  "kernelspec": {
   "display_name": "Python 3.9.7 64-bit ('base': conda)",
   "name": "python3"
  },
  "language_info": {
   "codemirror_mode": {
    "name": "ipython",
    "version": 3
   },
   "file_extension": ".py",
   "mimetype": "text/x-python",
   "name": "python",
   "nbconvert_exporter": "python",
   "pygments_lexer": "ipython3",
   "version": "3.9.7"
  }
 },
 "nbformat": 4,
 "nbformat_minor": 5
}
